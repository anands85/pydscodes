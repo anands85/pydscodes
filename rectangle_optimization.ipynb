{
 "cells": [
  {
   "cell_type": "code",
   "execution_count": 1,
   "metadata": {},
   "outputs": [],
   "source": [
    "import numpy as np"
   ]
  },
  {
   "cell_type": "code",
   "execution_count": 2,
   "metadata": {},
   "outputs": [],
   "source": [
    "# square playground of 100x100\n",
    "# Each point has values from +100 to -100 randomly as weights\n",
    "# Choose rectangular bounding box to maximmize points weight\n",
    "# Fixing random state for reproducibility\n",
    "np.random.seed(1000)\n",
    "num_points = 50\n",
    "\n",
    "x_axis_points = np.random.rand(num_points)*100\n",
    "y_axis_points = np.random.rand(num_points)*100\n",
    "weights = np.random.rand(num_points)*200-100\n",
    "\n",
    "x_axis_points_int = [int(x) for x in x_axis_points]\n",
    "y_axis_points_int = [int(y) for y in y_axis_points]\n",
    "weights = [int(w) for w in weights]"
   ]
  },
  {
   "cell_type": "code",
   "execution_count": 3,
   "metadata": {},
   "outputs": [],
   "source": [
    "import matplotlib.pyplot as plt"
   ]
  },
  {
   "cell_type": "code",
   "execution_count": 4,
   "metadata": {},
   "outputs": [],
   "source": [
    "sum_weights_x = []\n",
    "for index_x in range(100):\n",
    "    choose_index = [True if x>=index_x else False for x in x_axis_points_int]\n",
    "    sum_weights = np.sum([w if x else 0 for x,w in zip(choose_index,weights)])\n",
    "    sum_weights_x.append(sum_weights)\n",
    "\n",
    "sum_weights_y = []\n",
    "for index_y in range(100):\n",
    "    choose_index = [True if x>=index_y else False for x in y_axis_points_int]\n",
    "    sum_weights = np.sum([w if y else 0 for y,w in zip(choose_index,weights)])\n",
    "    sum_weights_y.append(sum_weights)"
   ]
  },
  {
   "cell_type": "code",
   "execution_count": 5,
   "metadata": {},
   "outputs": [],
   "source": [
    "def detect_maxima(sum_weights_x,sum_weights_y):\n",
    "    sum_weights_dx = np.diff(sum_weights_x)\n",
    "    sum_weights_dy = np.diff(sum_weights_y)\n",
    "    inflection_pts_increase_x = np.where(sum_weights_dx > 0)\n",
    "    inflection_pts_decrease_x = np.where(sum_weights_dx < 0)\n",
    "    inflection_pts_increase_y = np.where(sum_weights_dy > 0)\n",
    "    inflection_pts_decrease_y = np.where(sum_weights_dy < 0)\n",
    "    \n",
    "    inflection_pts_x = np.sort(np.append(inflection_pts_increase_x,inflection_pts_decrease_x))\n",
    "    inflection_pts_y = np.sort(np.append(inflection_pts_increase_y,inflection_pts_decrease_y))\n",
    "    return inflection_pts_x,inflection_pts_y"
   ]
  },
  {
   "cell_type": "code",
   "execution_count": 6,
   "metadata": {},
   "outputs": [],
   "source": [
    "def calc_weight_with_coordinates(x1,y1,x2,y2,x_axis_points_int,y_axis_points_int):\n",
    "    choose_index_func = [True if x>x1 and x<x2 and y>y1 and y<y2 else False for x,y in zip(x_axis_points_int,y_axis_points_int)]\n",
    "    sum_weights = np.sum([w if y==True else 0 for y,w in zip(choose_index_func,weights)])\n",
    "    return sum_weights,np.sum(choose_index_func)"
   ]
  },
  {
   "cell_type": "code",
   "execution_count": 7,
   "metadata": {},
   "outputs": [],
   "source": [
    "inflection_pts_x,inflection_pts_y = detect_maxima(sum_weights_x,sum_weights_y)\n",
    "ignore_areas = []\n",
    "for counter_x in range(len(inflection_pts_x)-1):\n",
    "    max_area = 0\n",
    "    for counter_y in range(len(inflection_pts_y)-1):\n",
    "        sum_weights, no_points = calc_weight_with_coordinates(inflection_pts_x[counter_x],\n",
    "                                     inflection_pts_y[counter_y],\n",
    "                                     inflection_pts_x[counter_x+1],\n",
    "                                     inflection_pts_y[counter_y+1],\n",
    "                                    x_axis_points_int,y_axis_points_int)\n",
    "        if sum_weights==0 and no_points==0:\n",
    "            area = (inflection_pts_x[counter_x+1]-inflection_pts_x[counter_x])*(inflection_pts_y[counter_y+1]-inflection_pts_y[counter_y])\n",
    "            if area > max_area:\n",
    "                max_area=area\n",
    "                ignore_areas.append((inflection_pts_x[counter_x],\n",
    "                                     inflection_pts_y[counter_y],\n",
    "                                     inflection_pts_x[counter_x+1],\n",
    "                                     inflection_pts_y[counter_y+1]))"
   ]
  },
  {
   "cell_type": "code",
   "execution_count": 8,
   "metadata": {},
   "outputs": [
    {
     "name": "stderr",
     "output_type": "stream",
     "text": [
      "/opt/anaconda3/lib/python3.8/site-packages/matplotlib/collections.py:922: RuntimeWarning: invalid value encountered in sqrt\n",
      "  scale = np.sqrt(self._sizes) * dpi / 72.0 * self._factor\n"
     ]
    },
    {
     "data": {
      "text/plain": [
       "<matplotlib.collections.PathCollection at 0x7fc5211b3b80>"
      ]
     },
     "execution_count": 8,
     "metadata": {},
     "output_type": "execute_result"
    },
    {
     "data": {
      "image/png": "[encoded data removed]",
      "text/plain": [
       "<Figure size 432x288 with 1 Axes>"
      ]
     },
     "metadata": {
      "needs_background": "light"
     },
     "output_type": "display_data"
    }
   ],
   "source": [
    "from matplotlib.collections import PatchCollection\n",
    "from matplotlib.patches import Rectangle\n",
    "\n",
    "fig,ax = plt.subplots(1)\n",
    "for coord in ignore_areas:\n",
    "    # Loop over data points; create box from errors at each point\n",
    "    errorboxes = [Rectangle((coord[0],coord[1]),coord[2]-coord[0],coord[3]-coord[1])]\n",
    "    # Create patch collection with specified colour/alpha\n",
    "    pc = PatchCollection(errorboxes, facecolor='r', alpha=0.5,edgecolor='r')\n",
    "    ax.add_collection(pc)\n",
    "plt.scatter(x_axis_points_int, y_axis_points_int, s=weights,alpha=0.5)"
   ]
  },
  {
   "cell_type": "code",
   "execution_count": 9,
   "metadata": {},
   "outputs": [
    {
     "data": {
      "text/plain": [
       "(-54, 34)"
      ]
     },
     "execution_count": 9,
     "metadata": {},
     "output_type": "execute_result"
    }
   ],
   "source": [
    "calc_weight_with_coordinates(0,40,99,99,x_axis_points_int,y_axis_points_int)"
   ]
  },
  {
   "cell_type": "code",
   "execution_count": 10,
   "metadata": {},
   "outputs": [
    {
     "data": {
      "text/plain": [
       "(106, 7)"
      ]
     },
     "execution_count": 10,
     "metadata": {},
     "output_type": "execute_result"
    }
   ],
   "source": [
    "calc_weight_with_coordinates(0,5,99,22,x_axis_points_int,y_axis_points_int)"
   ]
  }
 ],
 "metadata": {
  "kernelspec": {
   "display_name": "Python 3",
   "language": "python",
   "name": "python3"
  },
  "language_info": {
   "codemirror_mode": {
    "name": "ipython",
    "version": 3
   },
   "file_extension": ".py",
   "mimetype": "text/x-python",
   "name": "python",
   "nbconvert_exporter": "python",
   "pygments_lexer": "ipython3",
   "version": "3.8.5"
  }
 },
 "nbformat": 4,
 "nbformat_minor": 4
}
