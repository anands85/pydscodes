{
  "nbformat": 4,
  "nbformat_minor": 0,
  "metadata": {
    "kernelspec": {
      "display_name": "Python 3",
      "language": "python",
      "name": "python3"
    },
    "language_info": {
      "codemirror_mode": {
        "name": "ipython",
        "version": 3
      },
      "file_extension": ".py",
      "mimetype": "text/x-python",
      "name": "python",
      "nbconvert_exporter": "python",
      "pygments_lexer": "ipython3",
      "version": "3.8.5"
    },
    "colab": {
      "name": "image_process.ipynb",
      "provenance": [],
      "collapsed_sections": []
    }
  },
  "cells": [
    {
      "cell_type": "code",
      "metadata": {
        "id": "zSUA8GE78Z4o"
      },
      "source": [
        "#http://www.ee.surrey.ac.uk/CVSSP/demos/chars74k/\n",
        "import numpy as np\n",
        "import pandas as pd\n",
        "import datetime\n",
        "import os\n",
        "import json\n",
        "from sklearn.base import BaseEstimator, TransformerMixin\n",
        "from sklearn.pipeline import Pipeline\n",
        "from sklearn.compose import ColumnTransformer\n",
        "import base64\n",
        "from PIL import Image\n",
        "import io\n",
        "import pymongo"
      ],
      "execution_count": null,
      "outputs": []
    },
    {
      "cell_type": "code",
      "metadata": {
        "id": "AeIQdqmh8Z4s"
      },
      "source": [
        "def read_image_string(file_name):\n",
        "    image_string = None\n",
        "    with open(file_name, \"rb\") as image:\n",
        "        image_string = base64.b64encode(image.read())\n",
        "    return image_string\n",
        "\n",
        "def read_image_stats(file_name):\n",
        "    image_obj = Image.open(file_name)\n",
        "    image_size = image_obj.size\n",
        "    image_mode = image_obj.mode\n",
        "    return image_size[0],image_size[1],image_mode\n",
        "    \n",
        "def image_ingest_mongodb(image_fld_df,\n",
        "                        mongodb_url, \n",
        "                        db_name, \n",
        "                        collection_name):\n",
        "    process_success = True\n",
        "    try:\n",
        "        myclient = pymongo.MongoClient(mongodb_url)\n",
        "        db = myclient[db_name]\n",
        "        Collection = db[collection_name]\n",
        "        file_data = image_fld_df.to_dict(orient='records')\n",
        "        if isinstance(file_data, list):\n",
        "            Collection.insert_many(file_data)\n",
        "        else:\n",
        "            Collection.insert_one(file_data)\n",
        "    except Exception as err:\n",
        "        print(err)\n",
        "        process_success = False\n",
        "    return process_success\n",
        "    \n",
        "def read_image_folder(dir_name):\n",
        "    image_dict = dict()\n",
        "    images_fld_df = pd.DataFrame()\n",
        "    if dir_name:\n",
        "        files = [dir_name + \"/\" + f for f in os.listdir(dir_name) if not f.startswith('.')]\n",
        "        count_images = 0\n",
        "        for image_file in files:\n",
        "            image_string = read_image_string(image_file)\n",
        "            image_size_x,image_size_y,image_mode = read_image_stats(image_file)\n",
        "            image_dict['image_string'] = image_string\n",
        "            image_dict['size_x'] = image_size_x\n",
        "            image_dict['size_y'] = image_size_y\n",
        "            image_dict['mode'] = image_mode\n",
        "            image_df = pd.DataFrame(image_dict,index=[count_images])\n",
        "            count_images += 1\n",
        "            if images_fld_df.shape[0]>0:\n",
        "                images_fld_df = pd.concat([images_fld_df, image_df],ignore_index=False)\n",
        "            else:\n",
        "                images_fld_df = image_df\n",
        "            image_dict = dict()\n",
        "            image_df = None\n",
        "    return images_fld_df"
      ],
      "execution_count": null,
      "outputs": []
    },
    {
      "cell_type": "code",
      "metadata": {
        "id": "5r_rOCgq8Z4t"
      },
      "source": [
        "def test():\n",
        "    images_fld_df_0 = read_image_folder('/content/EnglishHnd/Sample001')\n",
        "    ######\n",
        "    images_fld_df_1 = read_image_folder('/content/EnglishHnd/Sample002')\n",
        "    return images_fld_df_0, images_fld_df_1 "
      ],
      "execution_count": null,
      "outputs": []
    },
    {
      "cell_type": "code",
      "metadata": {
        "id": "w9tzWHzw8Z4v"
      },
      "source": [
        "images_fld_df_0, images_fld_df_1 = test()"
      ],
      "execution_count": null,
      "outputs": []
    },
    {
      "cell_type": "code",
      "metadata": {
        "id": "rP-DzUnG8Z4w"
      },
      "source": [
        "import matplotlib.pyplot as plt\n",
        "import seaborn as sns\n",
        "\n",
        "import keras\n",
        "from keras.models import Sequential\n",
        "from keras.layers import Dense, Conv2D , MaxPool2D , Flatten , Dropout \n",
        "from keras.preprocessing.image import ImageDataGenerator\n",
        "import keras.optimizers\n",
        "\n",
        "from sklearn.metrics import classification_report,confusion_matrix\n",
        "\n",
        "import tensorflow as tf\n",
        "\n",
        "import cv2\n",
        "import os\n",
        "\n",
        "import numpy as np"
      ],
      "execution_count": null,
      "outputs": []
    },
    {
      "cell_type": "code",
      "metadata": {
        "id": "WtIsxpgT8Z4w"
      },
      "source": [
        "def get_data(images_fld_df,labels,label,fx_resize,fy_resize):\n",
        "    data = []\n",
        "    for index,document in images_fld_df.iterrows():\n",
        "        class_num = labels.index(label)\n",
        "        try:\n",
        "            jpg_original = base64.b64decode(document['image_string'])\n",
        "            jpg_as_np = np.frombuffer(jpg_original, dtype=np.uint8)\n",
        "            img = cv2.imdecode(jpg_as_np, flags=1)\n",
        "            img = cv2.resize(img, (0, 0), fx = fx_resize, fy = fy_resize)\n",
        "            data.append([img, class_num])\n",
        "        except Exception as e:\n",
        "            print(e)\n",
        "    return np.array(data)"
      ],
      "execution_count": null,
      "outputs": []
    },
    {
      "cell_type": "code",
      "metadata": {
        "colab": {
          "base_uri": "https://localhost:8080/"
        },
        "id": "f7Hqtdl38Z4x",
        "outputId": "1de18c38-575a-42be-b320-6e13ceec8f55"
      },
      "source": [
        "labels = ['0', '1']\n",
        "fx_resize = 0.1\n",
        "fy_resize = 0.1\n",
        "\n",
        "train_0 = get_data(images_fld_df_0,labels,'0',fx_resize,fy_resize)\n",
        "train_1 = get_data(images_fld_df_1,labels,'1',fx_resize,fy_resize)"
      ],
      "execution_count": null,
      "outputs": [
        {
          "output_type": "stream",
          "name": "stderr",
          "text": [
            "/usr/local/lib/python3.7/dist-packages/ipykernel_launcher.py:13: VisibleDeprecationWarning: Creating an ndarray from ragged nested sequences (which is a list-or-tuple of lists-or-tuples-or ndarrays with different lengths or shapes) is deprecated. If you meant to do this, you must specify 'dtype=object' when creating the ndarray\n",
            "  del sys.path[0]\n"
          ]
        }
      ]
    },
    {
      "cell_type": "code",
      "metadata": {
        "colab": {
          "base_uri": "https://localhost:8080/",
          "height": 337
        },
        "id": "lMHNlcLo8Z4z",
        "outputId": "d18b2197-6dac-4a70-a02d-771b9e6ebaf2"
      },
      "source": [
        "train = np.concatenate([train_0,train_1])\n",
        "\n",
        "l = []\n",
        "for i in train:\n",
        "    if(i[1] == 0):\n",
        "        l.append(\"Value_0 (Class_0)\")\n",
        "    else:\n",
        "        l.append(\"Value_1 (Class_1)\")\n",
        "sns.set_style('darkgrid')\n",
        "sns.countplot(l)"
      ],
      "execution_count": null,
      "outputs": [
        {
          "output_type": "stream",
          "name": "stderr",
          "text": [
            "/usr/local/lib/python3.7/dist-packages/seaborn/_decorators.py:43: FutureWarning: Pass the following variable as a keyword arg: x. From version 0.12, the only valid positional argument will be `data`, and passing other arguments without an explicit keyword will result in an error or misinterpretation.\n",
            "  FutureWarning\n"
          ]
        },
        {
          "output_type": "execute_result",
          "data": {
            "text/plain": [
              "<matplotlib.axes._subplots.AxesSubplot at 0x7f1352b95c10>"
            ]
          },
          "metadata": {},
          "execution_count": 8
        },
        {
          "output_type": "display_data",
          "data": {
            "image/png": "[encoded data removed]",
            "text/plain": [
              "<Figure size 432x288 with 1 Axes>"
            ]
          },
          "metadata": {}
        }
      ]
    },
    {
      "cell_type": "code",
      "metadata": {
        "colab": {
          "base_uri": "https://localhost:8080/",
          "height": 290
        },
        "id": "kDH8ZwDRfM8l",
        "outputId": "af76c653-fafc-453b-eeeb-f6842740592b"
      },
      "source": [
        "plt.figure(figsize = (5,5))\n",
        "plt.imshow(train[-1][0])\n",
        "plt.title(labels[train[-1][1]])"
      ],
      "execution_count": 16,
      "outputs": [
        {
          "output_type": "execute_result",
          "data": {
            "text/plain": [
              "Text(0.5, 1.0, '1')"
            ]
          },
          "metadata": {},
          "execution_count": 16
        },
        {
          "output_type": "display_data",
          "data": {
            "image/png": "[encoded data removed]",
            "text/plain": [
              "<Figure size 360x360 with 1 Axes>"
            ]
          },
          "metadata": {}
        }
      ]
    },
    {
      "cell_type": "code",
      "metadata": {
        "colab": {
          "base_uri": "https://localhost:8080/",
          "height": 290
        },
        "id": "RU62hXHgfRDt",
        "outputId": "6765d5d7-c875-4124-cebe-394a0532bffd"
      },
      "source": [
        "plt.figure(figsize = (5,5))\n",
        "plt.imshow(train[1][0])\n",
        "plt.title(labels[train[0][1]])"
      ],
      "execution_count": 17,
      "outputs": [
        {
          "output_type": "execute_result",
          "data": {
            "text/plain": [
              "Text(0.5, 1.0, '0')"
            ]
          },
          "metadata": {},
          "execution_count": 17
        },
        {
          "output_type": "display_data",
          "data": {
            "image/png": "[encoded data removed]",
            "text/plain": [
              "<Figure size 360x360 with 1 Axes>"
            ]
          },
          "metadata": {}
        }
      ]
    },
    {
      "cell_type": "code",
      "metadata": {
        "id": "_djvYTrK8Z40"
      },
      "source": [
        "x_train = []\n",
        "y_train = []\n",
        "x_val = []\n",
        "y_val = []\n",
        "\n",
        "for feature, label in train:\n",
        "    x_train.append(feature)\n",
        "    y_train.append(label)\n",
        "\n",
        "for feature, label in train:\n",
        "    x_val.append(feature)\n",
        "    y_val.append(label)\n",
        "\n",
        "# Normalize the data\n",
        "x_train = np.array(x_train) / 255\n",
        "x_val = np.array(x_val) / 255\n",
        "\n",
        "img_size = [120,90]\n",
        "\n",
        "x_train.reshape(-1, img_size[0], img_size[1], 1)\n",
        "y_train = np.array(y_train)\n",
        "\n",
        "x_val.reshape(-1, img_size[0], img_size[1], 1)\n",
        "y_val = np.array(y_val)"
      ],
      "execution_count": null,
      "outputs": []
    },
    {
      "cell_type": "code",
      "metadata": {
        "colab": {
          "base_uri": "https://localhost:8080/"
        },
        "id": "odVpMTmk8Z40",
        "outputId": "b4d88ecf-81f3-4c27-835a-3268733aaeba"
      },
      "source": [
        "model = Sequential()\n",
        "model.add(Conv2D(32,3,padding=\"same\", activation=\"relu\", input_shape=(img_size[0], img_size[1],3)))\n",
        "model.add(MaxPool2D())\n",
        "\n",
        "model.add(Conv2D(32, 3, padding=\"same\", activation=\"relu\"))\n",
        "model.add(MaxPool2D())\n",
        "\n",
        "model.add(Conv2D(64, 3, padding=\"same\", activation=\"relu\"))\n",
        "model.add(MaxPool2D())\n",
        "model.add(Dropout(0.4))\n",
        "\n",
        "model.add(Flatten())\n",
        "model.add(Dense(128,activation=\"relu\"))\n",
        "model.add(Dense(2, activation=\"softmax\"))\n",
        "\n",
        "model.summary()"
      ],
      "execution_count": null,
      "outputs": [
        {
          "output_type": "stream",
          "name": "stdout",
          "text": [
            "Model: \"sequential\"\n",
            "_________________________________________________________________\n",
            "Layer (type)                 Output Shape              Param #   \n",
            "=================================================================\n",
            "conv2d (Conv2D)              (None, 120, 90, 32)       896       \n",
            "_________________________________________________________________\n",
            "max_pooling2d (MaxPooling2D) (None, 60, 45, 32)        0         \n",
            "_________________________________________________________________\n",
            "conv2d_1 (Conv2D)            (None, 60, 45, 32)        9248      \n",
            "_________________________________________________________________\n",
            "max_pooling2d_1 (MaxPooling2 (None, 30, 22, 32)        0         \n",
            "_________________________________________________________________\n",
            "conv2d_2 (Conv2D)            (None, 30, 22, 64)        18496     \n",
            "_________________________________________________________________\n",
            "max_pooling2d_2 (MaxPooling2 (None, 15, 11, 64)        0         \n",
            "_________________________________________________________________\n",
            "dropout (Dropout)            (None, 15, 11, 64)        0         \n",
            "_________________________________________________________________\n",
            "flatten (Flatten)            (None, 10560)             0         \n",
            "_________________________________________________________________\n",
            "dense (Dense)                (None, 128)               1351808   \n",
            "_________________________________________________________________\n",
            "dense_1 (Dense)              (None, 2)                 258       \n",
            "=================================================================\n",
            "Total params: 1,380,706\n",
            "Trainable params: 1,380,706\n",
            "Non-trainable params: 0\n",
            "_________________________________________________________________\n"
          ]
        }
      ]
    },
    {
      "cell_type": "code",
      "metadata": {
        "id": "lE9b7LAq8Z41"
      },
      "source": [
        "from keras.optimizers import adam_v2\n",
        "epochs = 20\n",
        "opt = adam_v2.Adam(learning_rate=0.001)\n",
        "model.compile(optimizer = opt , loss = tf.keras.losses.SparseCategoricalCrossentropy(from_logits=True) , metrics = ['accuracy'])"
      ],
      "execution_count": null,
      "outputs": []
    },
    {
      "cell_type": "code",
      "metadata": {
        "colab": {
          "base_uri": "https://localhost:8080/"
        },
        "id": "SCm6o0ZG8Z41",
        "outputId": "0ffd2555-12d9-498e-ad40-7ed16497fc15"
      },
      "source": [
        "history = model.fit(x_train,y_train,epochs = epochs , validation_data = (x_val, y_val))"
      ],
      "execution_count": null,
      "outputs": [
        {
          "output_type": "stream",
          "name": "stdout",
          "text": [
            "Epoch 1/20\n",
            "WARNING:tensorflow:Model was constructed with shape (None, 120, 90, 3) for input KerasTensor(type_spec=TensorSpec(shape=(None, 120, 90, 3), dtype=tf.float32, name='conv2d_input'), name='conv2d_input', description=\"created by layer 'conv2d_input'\"), but it was called on an input with incompatible shape (None, 90, 120, 3).\n",
            "WARNING:tensorflow:Model was constructed with shape (None, 120, 90, 3) for input KerasTensor(type_spec=TensorSpec(shape=(None, 120, 90, 3), dtype=tf.float32, name='conv2d_input'), name='conv2d_input', description=\"created by layer 'conv2d_input'\"), but it was called on an input with incompatible shape (None, 90, 120, 3).\n"
          ]
        },
        {
          "output_type": "stream",
          "name": "stderr",
          "text": [
            "/usr/local/lib/python3.7/dist-packages/keras/backend.py:4907: UserWarning: \"`sparse_categorical_crossentropy` received `from_logits=True`, but the `output` argument was produced by a sigmoid or softmax activation and thus does not represent logits. Was this intended?\"\n",
            "  '\"`sparse_categorical_crossentropy` received `from_logits=True`, but '\n"
          ]
        },
        {
          "output_type": "stream",
          "name": "stdout",
          "text": [
            "4/4 [==============================] - ETA: 0s - loss: 2.0399 - accuracy: 0.4364WARNING:tensorflow:Model was constructed with shape (None, 120, 90, 3) for input KerasTensor(type_spec=TensorSpec(shape=(None, 120, 90, 3), dtype=tf.float32, name='conv2d_input'), name='conv2d_input', description=\"created by layer 'conv2d_input'\"), but it was called on an input with incompatible shape (None, 90, 120, 3).\n",
            "4/4 [==============================] - 3s 572ms/step - loss: 2.0399 - accuracy: 0.4364 - val_loss: 0.6984 - val_accuracy: 0.5000\n",
            "Epoch 2/20\n",
            "4/4 [==============================] - 2s 518ms/step - loss: 0.6979 - accuracy: 0.5000 - val_loss: 0.6908 - val_accuracy: 0.5000\n",
            "Epoch 3/20\n",
            "4/4 [==============================] - 2s 491ms/step - loss: 0.6882 - accuracy: 0.6273 - val_loss: 0.6872 - val_accuracy: 0.5000\n",
            "Epoch 4/20\n",
            "4/4 [==============================] - 2s 497ms/step - loss: 0.6848 - accuracy: 0.5000 - val_loss: 0.6816 - val_accuracy: 0.5000\n",
            "Epoch 5/20\n",
            "4/4 [==============================] - 2s 489ms/step - loss: 0.6812 - accuracy: 0.5273 - val_loss: 0.6666 - val_accuracy: 0.5000\n",
            "Epoch 6/20\n",
            "4/4 [==============================] - 2s 489ms/step - loss: 0.6612 - accuracy: 0.5727 - val_loss: 0.6365 - val_accuracy: 0.8727\n",
            "Epoch 7/20\n",
            "4/4 [==============================] - 2s 489ms/step - loss: 0.6234 - accuracy: 0.8273 - val_loss: 0.5781 - val_accuracy: 0.8727\n",
            "Epoch 8/20\n",
            "4/4 [==============================] - 2s 495ms/step - loss: 0.5542 - accuracy: 0.8727 - val_loss: 0.4743 - val_accuracy: 0.8909\n",
            "Epoch 9/20\n",
            "4/4 [==============================] - 2s 498ms/step - loss: 0.4424 - accuracy: 0.8818 - val_loss: 0.3436 - val_accuracy: 0.9000\n",
            "Epoch 10/20\n",
            "4/4 [==============================] - 2s 490ms/step - loss: 0.3197 - accuracy: 0.8818 - val_loss: 0.2480 - val_accuracy: 0.9091\n",
            "Epoch 11/20\n",
            "4/4 [==============================] - 2s 488ms/step - loss: 0.2514 - accuracy: 0.9000 - val_loss: 0.1857 - val_accuracy: 0.9273\n",
            "Epoch 12/20\n",
            "4/4 [==============================] - 2s 489ms/step - loss: 0.1761 - accuracy: 0.9091 - val_loss: 0.1710 - val_accuracy: 0.9273\n",
            "Epoch 13/20\n",
            "4/4 [==============================] - 2s 496ms/step - loss: 0.1800 - accuracy: 0.9091 - val_loss: 0.1197 - val_accuracy: 0.9364\n",
            "Epoch 14/20\n",
            "4/4 [==============================] - 2s 501ms/step - loss: 0.1471 - accuracy: 0.9364 - val_loss: 0.0964 - val_accuracy: 0.9636\n",
            "Epoch 15/20\n",
            "4/4 [==============================] - 2s 500ms/step - loss: 0.1181 - accuracy: 0.9364 - val_loss: 0.0843 - val_accuracy: 0.9818\n",
            "Epoch 16/20\n",
            "4/4 [==============================] - 2s 495ms/step - loss: 0.1208 - accuracy: 0.9636 - val_loss: 0.0833 - val_accuracy: 0.9727\n",
            "Epoch 17/20\n",
            "4/4 [==============================] - 2s 498ms/step - loss: 0.1031 - accuracy: 0.9545 - val_loss: 0.0558 - val_accuracy: 0.9818\n",
            "Epoch 18/20\n",
            "4/4 [==============================] - 2s 495ms/step - loss: 0.0738 - accuracy: 0.9727 - val_loss: 0.0455 - val_accuracy: 0.9909\n",
            "Epoch 19/20\n",
            "4/4 [==============================] - 2s 492ms/step - loss: 0.0718 - accuracy: 0.9727 - val_loss: 0.0377 - val_accuracy: 0.9909\n",
            "Epoch 20/20\n",
            "4/4 [==============================] - 2s 502ms/step - loss: 0.0612 - accuracy: 0.9818 - val_loss: 0.0319 - val_accuracy: 0.9909\n"
          ]
        }
      ]
    },
    {
      "cell_type": "code",
      "metadata": {
        "colab": {
          "base_uri": "https://localhost:8080/",
          "height": 435
        },
        "id": "GovHkrCd8Z41",
        "outputId": "6725d784-8fb1-40f5-b3c5-8cabb04489ce"
      },
      "source": [
        "acc = history.history['accuracy']\n",
        "val_acc = history.history['val_accuracy']\n",
        "loss = history.history['loss']\n",
        "val_loss = history.history['val_loss']\n",
        "\n",
        "epochs_range = range(epochs)\n",
        "\n",
        "plt.figure(figsize=(15, 15))\n",
        "plt.subplot(2, 2, 1)\n",
        "plt.plot(epochs_range, acc, label='Training Accuracy')\n",
        "plt.plot(epochs_range, val_acc, label='Validation Accuracy')\n",
        "plt.legend(loc='lower right')\n",
        "plt.title('Training and Validation Accuracy')\n",
        "\n",
        "plt.subplot(2, 2, 2)\n",
        "plt.plot(epochs_range, loss, label='Training Loss')\n",
        "plt.plot(epochs_range, val_loss, label='Validation Loss')\n",
        "plt.legend(loc='upper right')\n",
        "plt.title('Training and Validation Loss')\n",
        "plt.show()"
      ],
      "execution_count": null,
      "outputs": [
        {
          "output_type": "display_data",
          "data": {
            "image/png": "[encoded data removed]",
            "text/plain": [
              "<Figure size 1080x1080 with 2 Axes>"
            ]
          },
          "metadata": {}
        }
      ]
    },
    {
      "cell_type": "code",
      "metadata": {
        "colab": {
          "base_uri": "https://localhost:8080/"
        },
        "id": "yTdr4vEd8Z41",
        "outputId": "f921c3f8-34bb-4880-cdbd-86925e3bb40a"
      },
      "source": [
        "predictions = history.model.predict(x_val)\n",
        "predictions = predictions[:110].reshape(-1,2)\n",
        "prediction_flags = [1 if x[1]>=x[0] else 0 for x in predictions]\n",
        "print(classification_report(y_val, prediction_flags, target_names = ['Value_0 (Class_0)','Value_1 (Class_1)']))"
      ],
      "execution_count": null,
      "outputs": [
        {
          "output_type": "stream",
          "name": "stdout",
          "text": [
            "WARNING:tensorflow:Model was constructed with shape (None, 120, 90, 3) for input KerasTensor(type_spec=TensorSpec(shape=(None, 120, 90, 3), dtype=tf.float32, name='conv2d_input'), name='conv2d_input', description=\"created by layer 'conv2d_input'\"), but it was called on an input with incompatible shape (None, 90, 120, 3).\n",
            "                   precision    recall  f1-score   support\n",
            "\n",
            "Value_0 (Class_0)       1.00      0.98      0.99        55\n",
            "Value_1 (Class_1)       0.98      1.00      0.99        55\n",
            "\n",
            "         accuracy                           0.99       110\n",
            "        macro avg       0.99      0.99      0.99       110\n",
            "     weighted avg       0.99      0.99      0.99       110\n",
            "\n"
          ]
        }
      ]
    },
    {
      "cell_type": "code",
      "metadata": {
        "colab": {
          "base_uri": "https://localhost:8080/"
        },
        "id": "YOBVSbVzEnHK",
        "outputId": "c5dff8f5-f103-497c-addb-2121fc100121"
      },
      "source": [
        "print(predictions)"
      ],
      "execution_count": null,
      "outputs": [
        {
          "output_type": "stream",
          "name": "stdout",
          "text": [
            "[[9.9999547e-01 4.4990243e-06]\n",
            " [9.8785186e-01 1.2148097e-02]\n",
            " [9.9887079e-01 1.1291950e-03]\n",
            " [9.9998486e-01 1.5132971e-05]\n",
            " [9.9998367e-01 1.6301197e-05]\n",
            " [9.9540734e-01 4.5926953e-03]\n",
            " [9.9999166e-01 8.3856276e-06]\n",
            " [9.4473433e-01 5.5265687e-02]\n",
            " [9.0352976e-01 9.6470229e-02]\n",
            " [9.9998748e-01 1.2474221e-05]\n",
            " [9.9988019e-01 1.1980221e-04]\n",
            " [9.9998558e-01 1.4429628e-05]\n",
            " [9.9997246e-01 2.7581975e-05]\n",
            " [9.9993992e-01 6.0104710e-05]\n",
            " [9.9999547e-01 4.5623710e-06]\n",
            " [9.9868006e-01 1.3199742e-03]\n",
            " [9.9993122e-01 6.8775204e-05]\n",
            " [9.9999583e-01 4.1520316e-06]\n",
            " [9.9995947e-01 4.0563467e-05]\n",
            " [9.9814343e-01 1.8565606e-03]\n",
            " [9.6521384e-01 3.4786168e-02]\n",
            " [9.9993813e-01 6.1832769e-05]\n",
            " [9.2618454e-01 7.3815502e-02]\n",
            " [2.8410435e-01 7.1589571e-01]\n",
            " [9.9992609e-01 7.3851523e-05]\n",
            " [9.9826980e-01 1.7302411e-03]\n",
            " [9.8441941e-01 1.5580553e-02]\n",
            " [9.9994659e-01 5.3347721e-05]\n",
            " [9.9986255e-01 1.3740375e-04]\n",
            " [9.9994671e-01 5.3264714e-05]\n",
            " [9.9992609e-01 7.3906478e-05]\n",
            " [9.6818417e-01 3.1815790e-02]\n",
            " [9.7823811e-01 2.1761866e-02]\n",
            " [9.5637017e-01 4.3629777e-02]\n",
            " [9.9935728e-01 6.4276427e-04]\n",
            " [8.0921108e-01 1.9078891e-01]\n",
            " [9.9938846e-01 6.1150518e-04]\n",
            " [9.9991226e-01 8.7773769e-05]\n",
            " [9.9997056e-01 2.9425417e-05]\n",
            " [9.8646533e-01 1.3534728e-02]\n",
            " [9.9992371e-01 7.6312579e-05]\n",
            " [8.3754492e-01 1.6245505e-01]\n",
            " [9.9999321e-01 6.8182580e-06]\n",
            " [9.9999070e-01 9.3489216e-06]\n",
            " [9.9017102e-01 9.8289559e-03]\n",
            " [9.4508940e-01 5.4910634e-02]\n",
            " [9.5341069e-01 4.6589311e-02]\n",
            " [9.9987817e-01 1.2184523e-04]\n",
            " [7.2447538e-01 2.7552462e-01]\n",
            " [9.9998772e-01 1.2261496e-05]\n",
            " [9.9995363e-01 4.6411598e-05]\n",
            " [9.9895048e-01 1.0494665e-03]\n",
            " [9.9983025e-01 1.6974013e-04]\n",
            " [9.9999702e-01 2.9543801e-06]\n",
            " [9.9938476e-01 6.1521382e-04]\n",
            " [2.0100665e-03 9.9798989e-01]\n",
            " [1.2091905e-01 8.7908095e-01]\n",
            " [1.9491808e-01 8.0508190e-01]\n",
            " [1.0995696e-04 9.9989009e-01]\n",
            " [5.0692499e-04 9.9949300e-01]\n",
            " [1.2309524e-03 9.9876899e-01]\n",
            " [1.2277971e-01 8.7722033e-01]\n",
            " [4.5716015e-04 9.9954283e-01]\n",
            " [4.3328542e-02 9.5667142e-01]\n",
            " [4.5377958e-05 9.9995458e-01]\n",
            " [3.2852506e-04 9.9967146e-01]\n",
            " [6.3269343e-03 9.9367309e-01]\n",
            " [1.3481639e-03 9.9865192e-01]\n",
            " [1.2668468e-02 9.8733157e-01]\n",
            " [1.8657262e-03 9.9813432e-01]\n",
            " [2.2486718e-03 9.9775130e-01]\n",
            " [1.6714293e-04 9.9983287e-01]\n",
            " [5.6316536e-03 9.9436837e-01]\n",
            " [2.8672971e-02 9.7132707e-01]\n",
            " [9.2538297e-03 9.9074614e-01]\n",
            " [3.8933713e-02 9.6106637e-01]\n",
            " [5.7875160e-02 9.4212484e-01]\n",
            " [1.3495211e-03 9.9865049e-01]\n",
            " [9.4699499e-04 9.9905306e-01]\n",
            " [8.8756066e-03 9.9112433e-01]\n",
            " [1.7775791e-03 9.9822241e-01]\n",
            " [2.9022282e-04 9.9970978e-01]\n",
            " [1.8421290e-03 9.9815792e-01]\n",
            " [1.4626342e-04 9.9985373e-01]\n",
            " [1.4441038e-03 9.9855584e-01]\n",
            " [3.7533611e-03 9.9624664e-01]\n",
            " [3.5698522e-02 9.6430147e-01]\n",
            " [1.9882225e-02 9.8011786e-01]\n",
            " [7.5690923e-03 9.9243098e-01]\n",
            " [4.5697147e-04 9.9954307e-01]\n",
            " [7.8475574e-04 9.9921525e-01]\n",
            " [5.6924153e-04 9.9943072e-01]\n",
            " [8.5920384e-03 9.9140793e-01]\n",
            " [4.2734407e-02 9.5726556e-01]\n",
            " [1.4581534e-03 9.9854183e-01]\n",
            " [1.4953566e-04 9.9985039e-01]\n",
            " [5.0221418e-04 9.9949777e-01]\n",
            " [4.1265765e-04 9.9958736e-01]\n",
            " [6.4200677e-02 9.3579930e-01]\n",
            " [1.8925122e-03 9.9810743e-01]\n",
            " [6.0890575e-06 9.9999392e-01]\n",
            " [3.3032198e-03 9.9669683e-01]\n",
            " [3.4634882e-05 9.9996531e-01]\n",
            " [7.4001239e-03 9.9259984e-01]\n",
            " [1.6445570e-02 9.8355442e-01]\n",
            " [2.4443213e-03 9.9755561e-01]\n",
            " [1.5924545e-03 9.9840754e-01]\n",
            " [3.1003152e-04 9.9968994e-01]\n",
            " [1.9341563e-03 9.9806589e-01]\n",
            " [6.5097615e-02 9.3490237e-01]]\n"
          ]
        }
      ]
    }
  ]
}